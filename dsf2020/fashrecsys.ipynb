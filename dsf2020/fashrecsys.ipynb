{
 "cells": [
  {
   "cell_type": "code",
   "execution_count": 1,
   "metadata": {},
   "outputs": [],
   "source": [
    "# imports and helper libraries\n",
    "import os\n",
    "import logging\n",
    "logging.getLogger(\"tensorflow\").setLevel(logging.ERROR)\n",
    "os.environ['KMP_AFFINITY'] = 'noverbose'\n",
    "os.environ['TF_CPP_MIN_LOG_LEVEL'] = '3'\n",
    "\n",
    "import tensorflow as tf\n",
    "\n",
    "import numpy as np\n",
    "import pandas as pd\n",
    "import matplotlib.pyplot as plt"
   ]
  },
  {
   "cell_type": "code",
   "execution_count": 3,
   "metadata": {},
   "outputs": [],
   "source": [
    "# get the training data\n",
    "train = pd.read_parquet(\"https://raw.githubusercontent.com/ASOS/dsf2020/main/dsf_asos_train_with_alphanumeric_dummy_ids.parquet\")\n",
    "valid = pd.read_parquet(\"https://raw.githubusercontent.com/ASOS/dsf2020/main/dsf_asos_valid_with_alphanumeric_dummy_ids.parquet\")\n",
    "dummy_users = pd.read_csv(\"https://raw.githubusercontent.com/ASOS/dsf2020/main/dsf_asos_dummy_users_with_alphanumeric_dummy_ids.csv\", header=None).values.flatten().astype(str)\n",
    "products = pd.read_csv(\"https://raw.githubusercontent.com/ASOS/dsf2020/main/dsf_asos_productIds.csv\", header=None).values.flatten().astype(int)"
   ]
  },
  {
   "cell_type": "markdown",
   "metadata": {},
   "source": [
    "## Defining the Recommender Model"
   ]
  },
  {
   "cell_type": "code",
   "execution_count": 4,
   "metadata": {},
   "outputs": [],
   "source": [
    "embed1 = tf.keras.layers.Embedding(5, 8)"
   ]
  },
  {
   "cell_type": "code",
   "execution_count": 5,
   "metadata": {},
   "outputs": [
    {
     "data": {
      "text/plain": [
       "<tf.Tensor: shape=(8,), dtype=float32, numpy=\n",
       "array([-0.03090502, -0.03142109,  0.00747465, -0.00368375,  0.04794667,\n",
       "        0.03024275, -0.03664469,  0.00443583], dtype=float32)>"
      ]
     },
     "execution_count": 5,
     "metadata": {},
     "output_type": "execute_result"
    }
   ],
   "source": [
    "embed1(2)"
   ]
  },
  {
   "cell_type": "code",
   "execution_count": 6,
   "metadata": {},
   "outputs": [
    {
     "data": {
      "text/plain": [
       "[array([[-0.04748151,  0.00709735, -0.02149141, -0.00406612, -0.02391967,\n",
       "         -0.02052337, -0.0371755 ,  0.02259222],\n",
       "        [ 0.0332836 , -0.02688477,  0.01686648,  0.00957299,  0.02626557,\n",
       "         -0.02232741,  0.03806034,  0.00116964],\n",
       "        [-0.03090502, -0.03142109,  0.00747465, -0.00368375,  0.04794667,\n",
       "          0.03024275, -0.03664469,  0.00443583],\n",
       "        [-0.02845308,  0.00437478,  0.03625715,  0.03565258,  0.03072571,\n",
       "          0.04779761, -0.03749662, -0.0483506 ],\n",
       "        [-0.01640891, -0.0468799 ,  0.03553256, -0.04159101, -0.04083144,\n",
       "          0.03385096,  0.02842072, -0.01853668]], dtype=float32)]"
      ]
     },
     "execution_count": 6,
     "metadata": {},
     "output_type": "execute_result"
    }
   ],
   "source": [
    "embed1.get_weights()"
   ]
  },
  {
   "cell_type": "code",
   "execution_count": 7,
   "metadata": {},
   "outputs": [
    {
     "data": {
      "text/plain": [
       "array(['pmfkU4BNZhmtLgJQwJ7x', 'UDRRwOlzlWVbu7H8YCCi',\n",
       "       'QHGAef0TI6dhn0wTogvW', ..., 'lcORJ5hemOZc1iGo9z7k',\n",
       "       '5CqDquDAszqJp27P7AL8', 'SSPNYxJMfuKhoe1dg24m'], dtype='<U20')"
      ]
     },
     "execution_count": 7,
     "metadata": {},
     "output_type": "execute_result"
    }
   ],
   "source": [
    "dummy_users"
   ]
  },
  {
   "cell_type": "code",
   "execution_count": 8,
   "metadata": {},
   "outputs": [
    {
     "data": {
      "text/plain": [
       "array([ 8650774,  9306139,  9961521, ..., 12058614, 12058615, 11927550])"
      ]
     },
     "execution_count": 8,
     "metadata": {},
     "output_type": "execute_result"
    }
   ],
   "source": [
    "products"
   ]
  },
  {
   "cell_type": "code",
   "execution_count": 9,
   "metadata": {},
   "outputs": [],
   "source": [
    "dummy_user_embedding = tf.keras.layers.Embedding(len(dummy_users), 6)\n",
    "products_embedding = tf.keras.layers.Embedding(len(products), 6)"
   ]
  },
  {
   "cell_type": "code",
   "execution_count": 10,
   "metadata": {},
   "outputs": [
    {
     "data": {
      "text/plain": [
       "<tf.Tensor: shape=(6,), dtype=float32, numpy=\n",
       "array([ 0.02363217, -0.01482123,  0.04005045, -0.00431831, -0.00850946,\n",
       "       -0.04536475], dtype=float32)>"
      ]
     },
     "execution_count": 10,
     "metadata": {},
     "output_type": "execute_result"
    }
   ],
   "source": [
    "dummy_user_embedding(1)"
   ]
  },
  {
   "cell_type": "code",
   "execution_count": 11,
   "metadata": {},
   "outputs": [
    {
     "data": {
      "text/plain": [
       "<tf.Tensor: shape=(6,), dtype=float32, numpy=\n",
       "array([ 0.02785682,  0.01728873, -0.0105334 , -0.04317793, -0.01579964,\n",
       "        0.03429708], dtype=float32)>"
      ]
     },
     "execution_count": 11,
     "metadata": {},
     "output_type": "execute_result"
    }
   ],
   "source": [
    "products_embedding(99)"
   ]
  },
  {
   "cell_type": "code",
   "execution_count": 12,
   "metadata": {},
   "outputs": [
    {
     "data": {
      "text/plain": [
       "<tf.Tensor: shape=(), dtype=float32, numpy=-0.0012547674>"
      ]
     },
     "execution_count": 12,
     "metadata": {},
     "output_type": "execute_result"
    }
   ],
   "source": [
    "tf.tensordot(dummy_user_embedding(1), products_embedding(99), axes=[[0], [0]])"
   ]
  },
  {
   "cell_type": "code",
   "execution_count": 13,
   "metadata": {},
   "outputs": [
    {
     "data": {
      "text/plain": [
       "<tf.Tensor: shape=(4, 6), dtype=float32, numpy=\n",
       "array([[-0.02743806, -0.0306223 ,  0.00016682,  0.01159703, -0.02883006,\n",
       "         0.04038957],\n",
       "       [-0.0175973 , -0.04700191,  0.01031879,  0.01022498, -0.03636285,\n",
       "         0.04981625],\n",
       "       [ 0.00380818, -0.00935956, -0.0036974 , -0.02798309, -0.00140879,\n",
       "         0.04953668],\n",
       "       [ 0.03741796,  0.01892288,  0.04435607, -0.005238  ,  0.04076185,\n",
       "         0.02899151]], dtype=float32)>"
      ]
     },
     "execution_count": 13,
     "metadata": {},
     "output_type": "execute_result"
    }
   ],
   "source": [
    "example_product = tf.constant([1, 77, 104, 2062])\n",
    "products_embedding(example_product)"
   ]
  },
  {
   "cell_type": "code",
   "execution_count": 14,
   "metadata": {},
   "outputs": [
    {
     "data": {
      "text/plain": [
       "<tf.Tensor: shape=(4,), dtype=float32, numpy=array([-0.00182489, -0.00130059, -0.00203376,  0.00074085], dtype=float32)>"
      ]
     },
     "execution_count": 14,
     "metadata": {},
     "output_type": "execute_result"
    }
   ],
   "source": [
    "tf.tensordot(dummy_user_embedding(1), products_embedding(example_product), axes=[[0], [1]])"
   ]
  },
  {
   "cell_type": "markdown",
   "metadata": {},
   "source": [
    "### Mapping Product IDs to Embedding IDs"
   ]
  },
  {
   "cell_type": "code",
   "execution_count": 15,
   "metadata": {},
   "outputs": [
    {
     "data": {
      "text/plain": [
       "array(['pmfkU4BNZhmtLgJQwJ7x', 'UDRRwOlzlWVbu7H8YCCi',\n",
       "       'QHGAef0TI6dhn0wTogvW', ..., 'lcORJ5hemOZc1iGo9z7k',\n",
       "       '5CqDquDAszqJp27P7AL8', 'SSPNYxJMfuKhoe1dg24m'], dtype='<U20')"
      ]
     },
     "execution_count": 15,
     "metadata": {},
     "output_type": "execute_result"
    }
   ],
   "source": [
    "dummy_users"
   ]
  },
  {
   "cell_type": "code",
   "execution_count": 16,
   "metadata": {},
   "outputs": [
    {
     "data": {
      "text/plain": [
       "array([ 8650774,  9306139,  9961521, ..., 12058614, 12058615, 11927550])"
      ]
     },
     "execution_count": 16,
     "metadata": {},
     "output_type": "execute_result"
    }
   ],
   "source": [
    "products"
   ]
  },
  {
   "cell_type": "code",
   "execution_count": 17,
   "metadata": {},
   "outputs": [],
   "source": [
    "product_table = tf.lookup.StaticHashTable(tf.lookup.KeyValueTensorInitializer(tf.constant(products, dtype=tf.int32), range(len(products))), -1)"
   ]
  },
  {
   "cell_type": "code",
   "execution_count": 18,
   "metadata": {},
   "outputs": [
    {
     "data": {
      "text/plain": [
       "<tf.Tensor: shape=(1,), dtype=int32, numpy=array([29693], dtype=int32)>"
      ]
     },
     "execution_count": 18,
     "metadata": {},
     "output_type": "execute_result"
    }
   ],
   "source": [
    "product_table.lookup(tf.constant([12058614]))"
   ]
  },
  {
   "cell_type": "code",
   "execution_count": 49,
   "metadata": {},
   "outputs": [],
   "source": [
    "class SimpleRecommender(tf.keras.Model):\n",
    "    def __init__(self, dummy_users, products, len_embed):\n",
    "        super(SimpleRecommender, self).__init__()\n",
    "        self.products = tf.constant(products, dtype=tf.int32)\n",
    "        self.dummy_users = tf.constant(dummy_users, dtype=tf.string)\n",
    "        self.dummy_user_table = tf.lookup.StaticHashTable(tf.lookup.KeyValueTensorInitializer(self.dummy_users, range(len(dummy_users))), -1)\n",
    "        self.product_table = tf.lookup.StaticHashTable(tf.lookup.KeyValueTensorInitializer(self.products, range(len(products))), -1)\n",
    "\n",
    "        self.user_embedding = tf.keras.layers.Embedding(len(dummy_users), len_embed)\n",
    "        self.product_embedding = tf.keras.layers.Embedding(len(products), len_embed)\n",
    "\n",
    "        self.dot = tf.keras.layers.Dot(axes=-1) #* embedding of product and embedding of user\n",
    "\n",
    "    def call(self, inputs):\n",
    "        user = inputs[0]\n",
    "        products = inputs[1]\n",
    "\n",
    "        user_embedding_index = self.dummy_user_table.lookup(user)\n",
    "        product_embedding_index = self.product_table.lookup(products)\n",
    "\n",
    "        user_embedding_values = self.user_embedding(user_embedding_index)\n",
    "        product_embedding_values = self.product_embedding(product_embedding_index)\n",
    "\n",
    "        return tf.squeeze(self.dot([user_embedding_values, product_embedding_values]), 1)\n",
    "    \n",
    "    @tf.function\n",
    "    def call_item_item(self, product):\n",
    "        product_x = self.product_table.lookup(product)\n",
    "        pe = tf.expand_dims(self.product_embedding(product_x), 0)\n",
    "\n",
    "        all_pe = tf.expand_dims(self.product_embedding.embeddings, 0) #! only works if the layer has been built\n",
    "        scores = tf.reshape(self.dot([pe, all_pe]), [-1])\n",
    "\n",
    "        top_scores, top_indices = tf.math.top_k(scores, k=100)\n",
    "        top_ids = tf.gather(self.products, top_indices)\n",
    "        \n",
    "        return top_ids, top_scores"
   ]
  },
  {
   "cell_type": "code",
   "execution_count": 50,
   "metadata": {},
   "outputs": [
    {
     "data": {
      "text/plain": [
       "<tf.Tensor: shape=(2, 3), dtype=float32, numpy=\n",
       "array([[ 0.00218443, -0.0056198 , -0.00149052],\n",
       "       [-0.00083884, -0.00186805,  0.00293378]], dtype=float32)>"
      ]
     },
     "execution_count": 50,
     "metadata": {},
     "output_type": "execute_result"
    }
   ],
   "source": [
    "srl = SimpleRecommender(dummy_users, products, 15)\n",
    "srl([tf.constant([[\"UDRRwOlzlWVbu7H8YCCi\"], [\"QHGAef0TI6dhn0wTogvW\"]]), tf.constant([[8650774, 9306139, 9961521], [12058614, 12058615, 11927550]])])"
   ]
  },
  {
   "cell_type": "markdown",
   "metadata": {},
   "source": [
    "### Creating Dataset"
   ]
  },
  {
   "cell_type": "markdown",
   "metadata": {},
   "source": [
    "Creating a tf.data.Dataset from the user purchase pairs"
   ]
  },
  {
   "cell_type": "code",
   "execution_count": 51,
   "metadata": {},
   "outputs": [
    {
     "name": "stdout",
     "output_type": "stream",
     "text": [
      "tf.Tensor([b'PIXcm7Ru5KmntCy0yA1K'], shape=(1,), dtype=string)\n",
      "tf.Tensor([10524048], shape=(1,), dtype=int32)\n"
     ]
    }
   ],
   "source": [
    "dummy_user_tensor = tf.constant(train[[\"dummyUserId\"]].values, dtype=tf.string)\n",
    "product_tensor = tf.constant(train[[\"productId\"]].values, dtype=tf.int32)\n",
    "\n",
    "dataset = tf.data.Dataset.from_tensor_slices((dummy_user_tensor, product_tensor))\n",
    "for x, y in dataset:\n",
    "    print(x)\n",
    "    print(y)\n",
    "    break"
   ]
  },
  {
   "cell_type": "markdown",
   "metadata": {},
   "source": [
    "for each purchase sample a number of products that theuser did not purchase. then the model can score each of the products and we will know we are doing a good job if the product with the highest score i the product that the user actually purchased (use dataset.map)"
   ]
  },
  {
   "cell_type": "code",
   "execution_count": 52,
   "metadata": {},
   "outputs": [
    {
     "data": {
      "text/html": [
       "<div>\n",
       "<style scoped>\n",
       "    .dataframe tbody tr th:only-of-type {\n",
       "        vertical-align: middle;\n",
       "    }\n",
       "\n",
       "    .dataframe tbody tr th {\n",
       "        vertical-align: top;\n",
       "    }\n",
       "\n",
       "    .dataframe thead th {\n",
       "        text-align: right;\n",
       "    }\n",
       "</style>\n",
       "<table border=\"1\" class=\"dataframe\">\n",
       "  <thead>\n",
       "    <tr style=\"text-align: right;\">\n",
       "      <th></th>\n",
       "      <th>dummyUserId</th>\n",
       "      <th>productId</th>\n",
       "    </tr>\n",
       "  </thead>\n",
       "  <tbody>\n",
       "    <tr>\n",
       "      <th>0</th>\n",
       "      <td>b'PIXcm7Ru5KmntCy0yA1K'</td>\n",
       "      <td>10524048</td>\n",
       "    </tr>\n",
       "    <tr>\n",
       "      <th>1</th>\n",
       "      <td>b'd0RILFB1hUzNSINMY4Ow'</td>\n",
       "      <td>9137713</td>\n",
       "    </tr>\n",
       "    <tr>\n",
       "      <th>2</th>\n",
       "      <td>b'Ebax7lyhnKRm4xeRlWW2'</td>\n",
       "      <td>5808602</td>\n",
       "    </tr>\n",
       "    <tr>\n",
       "      <th>3</th>\n",
       "      <td>b'vtigDw2h2vxKt0sJpEeU'</td>\n",
       "      <td>10548272</td>\n",
       "    </tr>\n",
       "    <tr>\n",
       "      <th>4</th>\n",
       "      <td>b'r4GfiEaUGxziyjX0PyU6'</td>\n",
       "      <td>10988173</td>\n",
       "    </tr>\n",
       "    <tr>\n",
       "      <th>...</th>\n",
       "      <td>...</td>\n",
       "      <td>...</td>\n",
       "    </tr>\n",
       "    <tr>\n",
       "      <th>165037</th>\n",
       "      <td>b'7Eom5Ancozj01ozGxAMK'</td>\n",
       "      <td>9071435</td>\n",
       "    </tr>\n",
       "    <tr>\n",
       "      <th>165038</th>\n",
       "      <td>b'zi9vZETHqSIZK0TM2nZc'</td>\n",
       "      <td>10413104</td>\n",
       "    </tr>\n",
       "    <tr>\n",
       "      <th>165039</th>\n",
       "      <td>b'fVCveec9P946asY5wqGm'</td>\n",
       "      <td>9859881</td>\n",
       "    </tr>\n",
       "    <tr>\n",
       "      <th>165040</th>\n",
       "      <td>b'VJtfpw602SZHh2qwarK4'</td>\n",
       "      <td>10809487</td>\n",
       "    </tr>\n",
       "    <tr>\n",
       "      <th>165041</th>\n",
       "      <td>b'D8BlXaKnJHXmxgwfSZzE'</td>\n",
       "      <td>8752491</td>\n",
       "    </tr>\n",
       "  </tbody>\n",
       "</table>\n",
       "<p>165042 rows × 2 columns</p>\n",
       "</div>"
      ],
      "text/plain": [
       "                    dummyUserId  productId\n",
       "0       b'PIXcm7Ru5KmntCy0yA1K'   10524048\n",
       "1       b'd0RILFB1hUzNSINMY4Ow'    9137713\n",
       "2       b'Ebax7lyhnKRm4xeRlWW2'    5808602\n",
       "3       b'vtigDw2h2vxKt0sJpEeU'   10548272\n",
       "4       b'r4GfiEaUGxziyjX0PyU6'   10988173\n",
       "...                         ...        ...\n",
       "165037  b'7Eom5Ancozj01ozGxAMK'    9071435\n",
       "165038  b'zi9vZETHqSIZK0TM2nZc'   10413104\n",
       "165039  b'fVCveec9P946asY5wqGm'    9859881\n",
       "165040  b'VJtfpw602SZHh2qwarK4'   10809487\n",
       "165041  b'D8BlXaKnJHXmxgwfSZzE'    8752491\n",
       "\n",
       "[165042 rows x 2 columns]"
      ]
     },
     "execution_count": 52,
     "metadata": {},
     "output_type": "execute_result"
    }
   ],
   "source": [
    "train"
   ]
  },
  {
   "cell_type": "code",
   "execution_count": 53,
   "metadata": {},
   "outputs": [
    {
     "data": {
      "text/plain": [
       "<tf.Tensor: shape=(7,), dtype=int32, numpy=array([ 1776,  1429, 13702, 17240,  4536,  5279,  4225], dtype=int32)>"
      ]
     },
     "execution_count": 53,
     "metadata": {},
     "output_type": "execute_result"
    }
   ],
   "source": [
    "random_negatives_indexes = tf.random.uniform((7, ), minval=0, maxval=len(products), dtype=tf.int32)\n",
    "random_negatives_indexes"
   ]
  },
  {
   "cell_type": "code",
   "execution_count": 54,
   "metadata": {},
   "outputs": [
    {
     "data": {
      "text/plain": [
       "<tf.Tensor: shape=(7,), dtype=int64, numpy=\n",
       "array([ 8658687,  9312638, 11202042, 10824947, 11947395, 11295080,\n",
       "       12208225])>"
      ]
     },
     "execution_count": 54,
     "metadata": {},
     "output_type": "execute_result"
    }
   ],
   "source": [
    "tf.gather(products, random_negatives_indexes)"
   ]
  },
  {
   "cell_type": "code",
   "execution_count": 55,
   "metadata": {},
   "outputs": [
    {
     "data": {
      "text/plain": [
       "<tf.Tensor: shape=(11,), dtype=float32, numpy=array([1., 0., 0., 0., 0., 0., 0., 0., 0., 0., 0.], dtype=float32)>"
      ]
     },
     "execution_count": 55,
     "metadata": {},
     "output_type": "execute_result"
    }
   ],
   "source": [
    "tf.one_hot(0, depth=11)"
   ]
  },
  {
   "cell_type": "code",
   "execution_count": 56,
   "metadata": {},
   "outputs": [],
   "source": [
    "class Mapper():\n",
    "    def __init__(self, possible_products, num_negative_products):\n",
    "        self.num_possible_products = len(possible_products)\n",
    "        self.possible_products_tensor = tf.constant(possible_products, dtype=tf.int32)\n",
    "\n",
    "        self.num_negative_products = num_negative_products\n",
    "        self.y = tf.one_hot(0, num_negative_products+1)\n",
    "\n",
    "    def __call__(self, user, product):\n",
    "        random_negatives_indexes = tf.random.uniform((self.num_negative_products, ), minval=0, maxval=self.num_possible_products, dtype=tf.int32)\n",
    "        negatives = tf.gather(self.possible_products_tensor, random_negatives_indexes)\n",
    "        candidates = tf.concat([product, negatives], axis=0)\n",
    "\n",
    "        return (user, candidates), self.y"
   ]
  },
  {
   "cell_type": "code",
   "execution_count": 57,
   "metadata": {},
   "outputs": [
    {
     "name": "stdout",
     "output_type": "stream",
     "text": [
      "tf.Tensor([b'PIXcm7Ru5KmntCy0yA1K'], shape=(1,), dtype=string)\n",
      "tf.Tensor(\n",
      "[10524048 10234260  8118994  9758797 11841380  9198959  9748536  9025892\n",
      " 12549087 11140118  9531630], shape=(11,), dtype=int32)\n",
      "tf.Tensor([1. 0. 0. 0. 0. 0. 0. 0. 0. 0. 0.], shape=(11,), dtype=float32)\n"
     ]
    }
   ],
   "source": [
    "dataset = tf.data.Dataset.from_tensor_slices((dummy_user_tensor, product_tensor)).map(Mapper(products, 10)) #* 10 being the products the user did not purchase\n",
    "for (u, e), y in dataset:\n",
    "    print(u)\n",
    "    print(e)\n",
    "    print(y)\n",
    "    break"
   ]
  },
  {
   "cell_type": "code",
   "execution_count": 58,
   "metadata": {},
   "outputs": [],
   "source": [
    "def get_dataset(df, products, num_negative_products):\n",
    "    dummy_user_tensor = tf.constant(df[[\"dummyUserId\"]].values, dtype=tf.string)\n",
    "    product_tensor = tf.constant(df[[\"productId\"]].values, dtype=tf.int32)\n",
    "\n",
    "    dataset = tf.data.Dataset.from_tensor_slices((dummy_user_tensor, product_tensor))\n",
    "    dataset = dataset.map(Mapper(products, num_negative_products))\n",
    "    dataset = dataset.batch(1024)\n",
    "\n",
    "    return dataset"
   ]
  },
  {
   "cell_type": "code",
   "execution_count": 59,
   "metadata": {},
   "outputs": [
    {
     "name": "stdout",
     "output_type": "stream",
     "text": [
      "tf.Tensor(\n",
      "[[b'PIXcm7Ru5KmntCy0yA1K']\n",
      " [b'd0RILFB1hUzNSINMY4Ow']\n",
      " [b'Ebax7lyhnKRm4xeRlWW2']\n",
      " ...\n",
      " [b'xuX9n8PHfSR0AP3UZ8ar']\n",
      " [b'iNnxsPFfOa9884fMjVPJ']\n",
      " [b'aD8Mn12im8lFPzXAY41P']], shape=(1024, 1), dtype=string)\n",
      "tf.Tensor(\n",
      "[[10524048  9906592 12314017 12792079 12166862]\n",
      " [ 9137713  9181251  9065438 10886678 10879241]\n",
      " [ 5808602 12692359 11343908 11515266  8650774]\n",
      " ...\n",
      " [11541336  9429218  9493642 11781340 11415967]\n",
      " [ 7779232 11974396 12558915 11551124 11765849]\n",
      " [ 4941259 11712573  9498607 10250639  9994955]], shape=(1024, 5), dtype=int32)\n",
      "tf.Tensor(\n",
      "[[1. 0. 0. 0. 0.]\n",
      " [1. 0. 0. 0. 0.]\n",
      " [1. 0. 0. 0. 0.]\n",
      " ...\n",
      " [1. 0. 0. 0. 0.]\n",
      " [1. 0. 0. 0. 0.]\n",
      " [1. 0. 0. 0. 0.]], shape=(1024, 5), dtype=float32)\n"
     ]
    }
   ],
   "source": [
    "for (u, c), y in get_dataset(train, products, 4):\n",
    "    print(u)\n",
    "    print(c)\n",
    "    print(y)\n",
    "    break"
   ]
  },
  {
   "cell_type": "markdown",
   "metadata": {},
   "source": [
    "## Train Model"
   ]
  },
  {
   "cell_type": "code",
   "execution_count": 60,
   "metadata": {},
   "outputs": [],
   "source": [
    "model = SimpleRecommender(dummy_users, products, 15)\n",
    "model.compile(loss=tf.keras.losses.CategoricalCrossentropy(from_logits=True), optimizer=tf.keras.optimizers.SGD(learning_rate=100.), metrics=[tf.keras.metrics.CategoricalAccuracy()])"
   ]
  },
  {
   "cell_type": "code",
   "execution_count": 61,
   "metadata": {},
   "outputs": [
    {
     "name": "stdout",
     "output_type": "stream",
     "text": [
      "Epoch 1/5\n",
      "162/162 [==============================] - 5s 28ms/step - loss: 4.6151 - categorical_accuracy: 0.0137 - val_loss: 4.6151 - val_categorical_accuracy: 0.0182\n",
      "Epoch 2/5\n",
      "162/162 [==============================] - 5s 28ms/step - loss: 4.6119 - categorical_accuracy: 0.0846 - val_loss: 4.6146 - val_categorical_accuracy: 0.0480\n",
      "Epoch 3/5\n",
      "162/162 [==============================] - 5s 29ms/step - loss: 4.5976 - categorical_accuracy: 0.1921 - val_loss: 4.6041 - val_categorical_accuracy: 0.0776\n",
      "Epoch 4/5\n",
      "162/162 [==============================] - 5s 30ms/step - loss: 4.5145 - categorical_accuracy: 0.2386 - val_loss: 4.5378 - val_categorical_accuracy: 0.1014\n",
      "Epoch 5/5\n",
      "162/162 [==============================] - 5s 29ms/step - loss: 4.2801 - categorical_accuracy: 0.2389 - val_loss: 4.3816 - val_categorical_accuracy: 0.1136\n"
     ]
    },
    {
     "data": {
      "text/plain": [
       "<keras.src.callbacks.History at 0x7f4728289a50>"
      ]
     },
     "execution_count": 61,
     "metadata": {},
     "output_type": "execute_result"
    }
   ],
   "source": [
    "model.fit(get_dataset(train, products, 100), validation_data=get_dataset(valid, products, 100), epochs=5)"
   ]
  },
  {
   "cell_type": "code",
   "execution_count": null,
   "metadata": {},
   "outputs": [],
   "source": []
  }
 ],
 "metadata": {
  "kernelspec": {
   "display_name": "neurax",
   "language": "python",
   "name": "python3"
  },
  "language_info": {
   "codemirror_mode": {
    "name": "ipython",
    "version": 3
   },
   "file_extension": ".py",
   "mimetype": "text/x-python",
   "name": "python",
   "nbconvert_exporter": "python",
   "pygments_lexer": "ipython3",
   "version": "3.10.13"
  }
 },
 "nbformat": 4,
 "nbformat_minor": 2
}
